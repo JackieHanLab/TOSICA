{
 "cells": [
  {
   "cell_type": "code",
   "execution_count": 19,
   "metadata": {},
   "outputs": [],
   "source": [
    "import scanpy as sc\n",
    "import numpy as np\n",
    "import warnings \n",
    "warnings.filterwarnings (\"ignore\")\n",
    "import re, random\n",
    "from pathlib import Path\n",
    "import json\n",
    "import pandas as pd\n",
    "from pandas import DataFrame\n",
    "import os, sys\n",
    "import torch\n",
    "import TOSICA\n",
    "from icecream import ic\n",
    "ic.configureOutput(includeContext=True, argToStringFunction=lambda _: str(_))\n",
    "from utils.log_util import logger\n",
    "\n",
    "root_data_dir = Path('data')\n",
    "data_type = 'hPancreas'\n",
    "data_dir = root_data_dir / data_type"
   ]
  },
  {
   "cell_type": "markdown",
   "metadata": {},
   "source": [
    "Information of GPU"
   ]
  },
  {
   "cell_type": "code",
   "execution_count": 20,
   "metadata": {},
   "outputs": [
    {
     "name": "stdout",
     "output_type": "stream",
     "text": [
      "(7, 5)\n",
      "Tesla T4\n"
     ]
    }
   ],
   "source": [
    "print(torch.cuda.get_device_capability(device=None))\n",
    "print(torch.cuda.get_device_name(device=None))"
   ]
  },
  {
   "cell_type": "markdown",
   "metadata": {},
   "source": [
    "Reference data"
   ]
  },
  {
   "cell_type": "code",
   "execution_count": 21,
   "metadata": {},
   "outputs": [
    {
     "name": "stderr",
     "output_type": "stream",
     "text": [
      "23-05-20 06:51 3980563912.py 4: 3000\n",
      "23-05-20 06:51 3980563912.py 5: Index(['COL1A1', 'COL1A2', 'PPY', 'CTRB1', 'CELA3A'], dtype='object')\n",
      "23-05-20 06:51 3980563912.py 6: Index(['human1_lib1.final_cell_0001', 'human1_lib1.final_cell_0003',\n",
      "       'human1_lib1.final_cell_0004', 'human1_lib1.final_cell_0005',\n",
      "       'human1_lib1.final_cell_0006'],\n",
      "      dtype='object')\n",
      "23-05-20 06:51 3980563912.py 9: View of AnnData object with n_obs × n_vars = 10600 × 3000\n",
      "    obs: 'Celltype'\n",
      "    var: 'Gene Symbol'\n",
      "23-05-20 06:51 3980563912.py 10: Celltype\n",
      "alpha          3136\n",
      "beta           2966\n",
      "ductal         1290\n",
      "acinar         1144\n",
      "delta           793\n",
      "PSC             524\n",
      "PP              356\n",
      "endothelial     273\n",
      "macrophage       52\n",
      "mast             25\n",
      "epsilon          21\n",
      "schwann          13\n",
      "t_cell            7\n",
      "Name: count, dtype: int64\n",
      "23-05-20 06:51 3980563912.py 11: 13\n",
      "23-05-20 06:51 3980563912.py 13: View of AnnData object with n_obs × n_vars = 2 × 4\n",
      "    obs: 'Celltype'\n",
      "    var: 'Gene Symbol'\n",
      "23-05-20 06:51 3980563912.py 15: [[0.0, 0.0, 1.0241609811782837, 5.755773067474365], [0.0, 0.0, 0.7810583114624023, 6.0262041091918945]]\n"
     ]
    }
   ],
   "source": [
    "train_file = data_dir / 'train.h5ad'\n",
    "ref_adata = sc.read(train_file)\n",
    "gene_names = set(ref_adata.var_names)\n",
    "logger.info(len(gene_names))\n",
    "logger.info(ref_adata.var_names[:5])\n",
    "logger.info(ref_adata.obs_names[:5])\n",
    "# view of the data\n",
    "ref_adata = ref_adata[:, ref_adata.var_names]\n",
    "logger.info(ref_adata)\n",
    "logger.info(ref_adata.obs.Celltype.value_counts())\n",
    "logger.info(len(ref_adata.obs.Celltype.value_counts()))\n",
    "a = ref_adata[['human1_lib1.final_cell_0001', 'human1_lib1.final_cell_0003'], ['COL1A1', 'COL1A2', 'PPY', 'CTRB1']]\n",
    "logger.info(a)\n",
    "b = a.X.toarray().tolist()\n",
    "logger.info(b)"
   ]
  },
  {
   "cell_type": "markdown",
   "metadata": {},
   "source": [
    "Query data"
   ]
  },
  {
   "cell_type": "code",
   "execution_count": 22,
   "metadata": {},
   "outputs": [
    {
     "name": "stderr",
     "output_type": "stream",
     "text": [
      "23-05-20 06:51 1818168239.py 2: Index(['COL1A1', 'COL1A2', 'PPY', 'CTRB1', 'CELA3A', 'CTRB2', 'SPINK1',\n",
      "       'COL3A1', 'CPB1', 'COL6A3',\n",
      "       ...\n",
      "       'DUSP19', 'ZNF160', 'NPRL2', 'CILP2', 'SNED1', 'FAM110D', 'SELL',\n",
      "       'C9orf135', 'GRIN2D', 'HERC5'],\n",
      "      dtype='object', length=3000)\n",
      "23-05-20 06:51 1818168239.py 4: View of AnnData object with n_obs × n_vars = 4218 × 3000\n",
      "    obs: 'Celltype'\n",
      "    var: 'Gene Symbol'\n",
      "23-05-20 06:51 1818168239.py 5: query_adata.obs.Celltype\n",
      "10th_C11_S96    beta\n",
      "10th_C13_S61    beta\n",
      "10th_C14_S53    beta\n",
      "10th_C17_S97    beta\n",
      "10th_C19_S62     PSC\n",
      "                ... \n",
      "Sample_1594       PP\n",
      "Sample_1595       PP\n",
      "Sample_1597       PP\n",
      "Sample_1598       PP\n",
      "Sample_1600       PP\n",
      "Name: Celltype, Length: 4218, dtype: category\n",
      "Categories (11, object): ['MHC class II', 'PP', 'PSC', 'acinar', ..., 'ductal', 'endothelial', 'epsilon', 'mast']\n",
      "23-05-20 06:51 1818168239.py 6: query_adata.var\n",
      "         Gene Symbol\n",
      "COL1A1        COL1A1\n",
      "COL1A2        COL1A2\n",
      "PPY              PPY\n",
      "CTRB1          CTRB1\n",
      "CELA3A        CELA3A\n",
      "...              ...\n",
      "FAM110D      FAM110D\n",
      "SELL            SELL\n",
      "C9orf135    C9orf135\n",
      "GRIN2D        GRIN2D\n",
      "HERC5          HERC5\n",
      "\n",
      "[3000 rows x 1 columns]\n",
      "23-05-20 06:51 1818168239.py 7: Celltype\n",
      "alpha           2011\n",
      "beta            1006\n",
      "ductal           414\n",
      "PP               282\n",
      "acinar           209\n",
      "delta            188\n",
      "PSC               73\n",
      "endothelial       16\n",
      "epsilon            7\n",
      "mast               7\n",
      "MHC class II       5\n",
      "Name: count, dtype: int64\n",
      "23-05-20 06:51 1818168239.py 8: 11\n",
      "23-05-20 06:51 1818168239.py 9: (4218, 3000)\n"
     ]
    }
   ],
   "source": [
    "query_adata = sc.read(data_dir / 'test.h5ad')\n",
    "logger.info('%s', query_adata.var_names)\n",
    "query_adata = query_adata[:, query_adata.var_names]\n",
    "logger.info(query_adata)\n",
    "logger.info('query_adata.obs.Celltype\\n%s', query_adata.obs.Celltype)\n",
    "logger.info('query_adata.var\\n%s', query_adata.var)\n",
    "logger.info(query_adata.obs.Celltype.value_counts())\n",
    "logger.info(len(query_adata.obs.Celltype.value_counts()))\n",
    "logger.info(query_adata.shape)\n",
    "# type(query_adata.var['Gene Symbol'])) is Series"
   ]
  },
  {
   "cell_type": "markdown",
   "metadata": {},
   "source": [
    "Training:"
   ]
  },
  {
   "cell_type": "markdown",
   "metadata": {},
   "source": [
    "Prediction"
   ]
  },
  {
   "cell_type": "code",
   "execution_count": 23,
   "metadata": {},
   "outputs": [
    {
     "name": "stderr",
     "output_type": "stream",
     "text": [
      "23-05-20 06:51 app_utils.py 12: data_type hPancreas\n",
      "23-05-20 06:51 pre.py 46: cuda:0\n",
      "23-05-20 06:51 pre.py 88: all_line num 4218\n",
      "23-05-20 06:51 pre.py 97: start_line_i num 0\n"
     ]
    }
   ],
   "source": [
    "from app.app_utils import read_train_config\n",
    "\n",
    "data_type = 'hPancreas'\n",
    "project_dir = Path(f'projects/hGOBP_demo')\n",
    "\n",
    "model_weight_paths = read_train_config(data_type)\n",
    "model_weight_path = model_weight_paths[0]\n",
    "new_adata = TOSICA.pre(query_adata, model_weight_path=model_weight_path, project_path=project_dir)"
   ]
  },
  {
   "attachments": {},
   "cell_type": "markdown",
   "metadata": {},
   "source": [
    "the X data in predicted new_adata is the attention weight, thats 4218 * 299, the 299 pathways has most genes."
   ]
  },
  {
   "cell_type": "code",
   "execution_count": 24,
   "metadata": {},
   "outputs": [
    {
     "name": "stderr",
     "output_type": "stream",
     "text": [
      "... storing 'Prediction' as categorical\n",
      "... storing 'Celltype' as categorical\n",
      "23-05-20 06:51 attrs.py 203: Creating converter from 5 to 3\n"
     ]
    },
    {
     "data": {
      "text/plain": [
       "AnnData object with n_obs × n_vars = 4218 × 299\n",
       "    obs: 'Prediction', 'Probability', 'Celltype'"
      ]
     },
     "execution_count": 24,
     "metadata": {},
     "output_type": "execute_result"
    }
   ],
   "source": [
    "new_adata.write('demo_attn.h5ad')\n",
    "new_adata"
   ]
  },
  {
   "cell_type": "markdown",
   "metadata": {},
   "source": [
    "Training on pre-weights of 'human_gobp' mask:"
   ]
  },
  {
   "cell_type": "code",
   "execution_count": 31,
   "metadata": {},
   "outputs": [
    {
     "name": "stdout",
     "output_type": "stream",
     "text": [
      "['PP', 'PSC', 'acinar', 'alpha', 'beta', 'delta', 'ductal', 'endothelial', 'epsilon', 'macrophage', 'mast', 'schwann']\n",
      "['PP', 'PSC', 'acinar', 'alpha', 'beta', 'delta', 'ductal', 'endothelial', 'epsilon', 'macrophage', 'mast', 'schwann', 't_cell']\n",
      "12\n",
      "13\n",
      "11\n",
      "Real labels, Celltype\n",
      "['MHC class II', 'PP', 'PSC', 'acinar', 'alpha', 'beta', 'delta', 'ductal', 'endothelial', 'epsilon', 'mast']\n",
      "Celltype\n",
      "alpha           2011\n",
      "beta            1006\n",
      "ductal           414\n",
      "PP               282\n",
      "acinar           209\n",
      "delta            188\n",
      "PSC               73\n",
      "endothelial       16\n",
      "epsilon            7\n",
      "mast               7\n",
      "MHC class II       5\n",
      "Name: count, dtype: int64\n",
      "Prediction\n",
      "alpha          2012\n",
      "beta            999\n",
      "ductal          494\n",
      "PP              284\n",
      "delta           182\n",
      "acinar          133\n",
      "PSC              70\n",
      "endothelial      22\n",
      "epsilon           9\n",
      "mast              7\n",
      "macrophage        5\n",
      "schwann           1\n",
      "Name: count, dtype: int64\n"
     ]
    }
   ],
   "source": [
    "celltype = (\"alpha\",\"beta\",\"ductal\",\"acinar\",\"delta\",\"PP\",\"PSC\",\"endothelial\",\"epsilon\",\"mast\",\"macrophage\",\"schwann\",'t_cell')\n",
    "print(sorted(new_adata.obs['Prediction'].unique()))\n",
    "print(sorted(celltype))\n",
    "print(len(new_adata.obs['Prediction'].unique()))\n",
    "print(len(celltype))\n",
    "\n",
    "print(len(new_adata.obs['Celltype'].unique()))\n",
    "print('Real labels, Celltype')\n",
    "print(sorted(new_adata.obs['Celltype'].unique()))\n",
    "print(new_adata.obs['Celltype'].value_counts())\n",
    "print(new_adata.obs['Prediction'].value_counts())"
   ]
  },
  {
   "cell_type": "code",
   "execution_count": 26,
   "metadata": {},
   "outputs": [],
   "source": [
    "# TOSICA.train(ref_adata, gmt_path='human_gobp', label_name='Celltype',pre_weights='pre_weights.pth',epochs=1)"
   ]
  }
 ],
 "metadata": {
  "kernelspec": {
   "display_name": "Python 3.9.13 ('py39')",
   "language": "python",
   "name": "python3"
  },
  "language_info": {
   "codemirror_mode": {
    "name": "ipython",
    "version": 3
   },
   "file_extension": ".py",
   "mimetype": "text/x-python",
   "name": "python",
   "nbconvert_exporter": "python",
   "pygments_lexer": "ipython3",
   "version": "3.9.0"
  },
  "orig_nbformat": 4,
  "vscode": {
   "interpreter": {
    "hash": "e90288de24002fc913a985340bdc7a8e198e3725b84a1edba7e490fa3d0b09f2"
   }
  }
 },
 "nbformat": 4,
 "nbformat_minor": 2
}
